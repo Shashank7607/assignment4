{
 "cells": [
  {
   "cell_type": "code",
   "execution_count": 2,
   "id": "4e8a2658-9341-4282-9a56-eb7f1eec2846",
   "metadata": {},
   "outputs": [],
   "source": [
    "#Answer1"
   ]
  },
  {
   "cell_type": "code",
   "execution_count": 3,
   "id": "a44facb3-cd47-4cf2-b380-eb9dc87c3864",
   "metadata": {},
   "outputs": [],
   "source": [
    "#In Python, the keyword def is used to create a function."
   ]
  },
  {
   "cell_type": "code",
   "execution_count": 4,
   "id": "13a0e30f-67c3-404f-ab2f-f3c08d11c069",
   "metadata": {},
   "outputs": [
    {
     "name": "stdout",
     "output_type": "stream",
     "text": [
      "[1, 3, 5, 7, 9, 11, 13, 15, 17, 19, 21, 23, 25]\n"
     ]
    }
   ],
   "source": [
    "def odd_numbers():\n",
    "    odd_list = []\n",
    "    for i in range(1, 26):\n",
    "        if i % 2 != 0:\n",
    "            odd_list.append(i)\n",
    "    return odd_list\n",
    "\n",
    "print(odd_numbers())\n"
   ]
  },
  {
   "cell_type": "code",
   "execution_count": 5,
   "id": "d6299cc9-cfe5-4771-8ba1-0729dfb79837",
   "metadata": {},
   "outputs": [],
   "source": [
    "#Answer2"
   ]
  },
  {
   "cell_type": "code",
   "execution_count": 6,
   "id": "ac53d8e5-3d2e-4c7f-97a3-1a4172237f79",
   "metadata": {},
   "outputs": [],
   "source": [
    "#*args is used to send a non-keyworded variable length argument list to the function. The syntax is to use the asterisk * before the parameter name, which allows the function to receive an arbitrary number of non-keyworded arguments. These arguments will be stored in a tuple.\n"
   ]
  },
  {
   "cell_type": "code",
   "execution_count": 7,
   "id": "e795a722-e294-4d14-bfc8-0d479567780c",
   "metadata": {},
   "outputs": [
    {
     "name": "stdout",
     "output_type": "stream",
     "text": [
      "1\n",
      "2\n",
      "3\n",
      "4\n",
      "5\n"
     ]
    }
   ],
   "source": [
    "def print_args(*args):\n",
    "    for arg in args:\n",
    "        print(arg)\n",
    "\n",
    "print_args(1, 2, 3, 4, 5)\n"
   ]
  },
  {
   "cell_type": "code",
   "execution_count": 8,
   "id": "463dae53-33c0-4c12-8276-bdbe1231c9f7",
   "metadata": {},
   "outputs": [],
   "source": [
    "#**kwargs is used to send a keyworded variable length argument list to the function. The syntax is to use two asterisks ** before the parameter name, which allows the function to receive an arbitrary number of keyworded arguments. These arguments will be stored in a dictionary."
   ]
  },
  {
   "cell_type": "code",
   "execution_count": 9,
   "id": "170dd770-4132-49cb-98e0-6f1bf0095b2a",
   "metadata": {},
   "outputs": [
    {
     "name": "stdout",
     "output_type": "stream",
     "text": [
      "a: 1\n",
      "b: 2\n",
      "c: 3\n"
     ]
    }
   ],
   "source": [
    "def print_kwargs(**kwargs):\n",
    "    for key, value in kwargs.items():\n",
    "        print(f\"{key}: {value}\")\n",
    "\n",
    "print_kwargs(a=1, b=2, c=3)\n"
   ]
  },
  {
   "cell_type": "code",
   "execution_count": 10,
   "id": "4fa12fef-57f5-4661-90ab-f5c8781fcf17",
   "metadata": {},
   "outputs": [],
   "source": [
    "#Answer3"
   ]
  },
  {
   "cell_type": "code",
   "execution_count": 11,
   "id": "722fe029-4dba-4d6f-bcbc-3004a7f4ed8a",
   "metadata": {},
   "outputs": [],
   "source": [
    "#An iterator in Python is an object that implements the iterator protocol, which consists of two methods: __iter__ and __next__. The __iter__ method is used to initialize the iterator object, and the __next__ method is used to iterate through the elements of the iterator."
   ]
  },
  {
   "cell_type": "code",
   "execution_count": 12,
   "id": "4a246b50-c5a8-409c-9839-343b77d9eb78",
   "metadata": {},
   "outputs": [
    {
     "name": "stdout",
     "output_type": "stream",
     "text": [
      "2\n",
      "4\n",
      "6\n",
      "8\n",
      "10\n"
     ]
    }
   ],
   "source": [
    "list = [2, 4, 6, 8, 10, 12, 14, 16, 18, 20]\n",
    "\n",
    "iter_obj = iter(list)\n",
    "\n",
    "for i in range(5):\n",
    "    print(next(iter_obj))\n"
   ]
  },
  {
   "cell_type": "code",
   "execution_count": 13,
   "id": "9ccbeede-7491-4f22-b653-dd0bbdd3491c",
   "metadata": {},
   "outputs": [],
   "source": [
    "#Answer4"
   ]
  },
  {
   "cell_type": "code",
   "execution_count": 14,
   "id": "3a45bbd2-88ee-4497-90a4-efeff36f5283",
   "metadata": {},
   "outputs": [],
   "source": [
    "#A generator function in Python is a function that uses the yield keyword to return a generator object. The generator object can be iterated over to produce a series of values, but unlike a normal function, the state of the generator is saved between each call to next(), so it can resume where it left off the last time it was called.\n",
    "\n",
    "#The yield keyword is used to produce a value and temporarily pause the generator function's execution, until the next value is requested through iteration. The yield keyword allows a generator function to produce a sequence of values, rather than computing them all at once and returning a list."
   ]
  },
  {
   "cell_type": "code",
   "execution_count": 15,
   "id": "3fa79b77-0ebc-4729-b812-07e9f55e6460",
   "metadata": {},
   "outputs": [
    {
     "name": "stdout",
     "output_type": "stream",
     "text": [
      "0\n",
      "1\n",
      "1\n",
      "2\n",
      "3\n",
      "5\n",
      "8\n",
      "13\n",
      "21\n",
      "34\n"
     ]
    }
   ],
   "source": [
    "def fibonacci():\n",
    "    a, b = 0, 1\n",
    "    while True:\n",
    "        yield a\n",
    "        a, b = b, a + b\n",
    "\n",
    "fib = fibonacci()\n",
    "\n",
    "for i in range(10):\n",
    "    print(next(fib))\n"
   ]
  },
  {
   "cell_type": "code",
   "execution_count": 16,
   "id": "a765b04f-bed7-4c50-81a7-c3e6f19f176a",
   "metadata": {},
   "outputs": [],
   "source": [
    "#Answer5"
   ]
  },
  {
   "cell_type": "code",
   "execution_count": 17,
   "id": "ccd00d21-2349-4d77-b7bc-eb5cf9eb4462",
   "metadata": {},
   "outputs": [
    {
     "name": "stdout",
     "output_type": "stream",
     "text": [
      "2\n",
      "3\n",
      "5\n",
      "7\n",
      "11\n",
      "13\n",
      "17\n",
      "19\n",
      "23\n",
      "29\n",
      "31\n",
      "37\n",
      "41\n",
      "43\n",
      "47\n",
      "53\n",
      "59\n",
      "61\n",
      "67\n",
      "71\n"
     ]
    }
   ],
   "source": [
    "def prime_numbers():\n",
    "    primes = []\n",
    "    for num in range(2, 1000):\n",
    "        for i in range(2, num):\n",
    "            if (num % i) == 0:\n",
    "                break\n",
    "        else:\n",
    "            primes.append(num)\n",
    "            yield num\n",
    "\n",
    "primes = prime_numbers()\n",
    "\n",
    "for i in range(20):\n",
    "    print(next(primes))\n"
   ]
  },
  {
   "cell_type": "code",
   "execution_count": 18,
   "id": "95a00d25-cd6d-4df2-ab7f-5f55d1866044",
   "metadata": {},
   "outputs": [],
   "source": [
    "#Answer6"
   ]
  },
  {
   "cell_type": "code",
   "execution_count": 19,
   "id": "ab180a61-e382-46df-be4d-121470f919c8",
   "metadata": {},
   "outputs": [
    {
     "name": "stdout",
     "output_type": "stream",
     "text": [
      "0\n",
      "1\n",
      "1\n",
      "2\n",
      "3\n",
      "5\n",
      "8\n",
      "13\n",
      "21\n",
      "34\n"
     ]
    }
   ],
   "source": [
    "a, b = 0, 1\n",
    "count = 0\n",
    "\n",
    "while count < 10:\n",
    "    print(a)\n",
    "    a, b = b, a + b\n",
    "    count += 1\n"
   ]
  },
  {
   "cell_type": "code",
   "execution_count": 20,
   "id": "6b378017-2d21-4643-abaf-00579b8bb0da",
   "metadata": {},
   "outputs": [],
   "source": [
    "#Answer7"
   ]
  },
  {
   "cell_type": "code",
   "execution_count": 21,
   "id": "d9406ab6-1f60-4d9e-8c22-f0fa0e3e29d9",
   "metadata": {},
   "outputs": [
    {
     "name": "stdout",
     "output_type": "stream",
     "text": [
      "['p', 'w', 's', 'k', 'i', 'l', 'l', 's']\n"
     ]
    }
   ],
   "source": [
    "string = 'pwskills'\n",
    "\n",
    "result = [char for char in string]\n",
    "\n",
    "print(result)\n"
   ]
  },
  {
   "cell_type": "code",
   "execution_count": 22,
   "id": "4d90809b-5fd3-4f24-b09a-42194a974d07",
   "metadata": {},
   "outputs": [],
   "source": [
    "#Answer8"
   ]
  },
  {
   "cell_type": "code",
   "execution_count": null,
   "id": "1890a64e-d1cb-4809-b785-2933630eb7b2",
   "metadata": {},
   "outputs": [],
   "source": [
    "num = int(input(\"Enter a number: \"))\n",
    "\n",
    "temp = num\n",
    "rev = 0\n",
    "\n",
    "while temp != 0:\n",
    "    rev = rev * 10 + temp % 10\n",
    "    temp = temp // 10\n",
    "\n",
    "if num == rev:\n",
    "    print(num, \"is a palindrome.\")\n",
    "else:\n",
    "    print(num, \"is not a palindrome.\")\n"
   ]
  },
  {
   "cell_type": "code",
   "execution_count": null,
   "id": "eb301026-4047-4d68-9862-39834b8094a7",
   "metadata": {},
   "outputs": [],
   "source": []
  }
 ],
 "metadata": {
  "kernelspec": {
   "display_name": "Python 3 (ipykernel)",
   "language": "python",
   "name": "python3"
  },
  "language_info": {
   "codemirror_mode": {
    "name": "ipython",
    "version": 3
   },
   "file_extension": ".py",
   "mimetype": "text/x-python",
   "name": "python",
   "nbconvert_exporter": "python",
   "pygments_lexer": "ipython3",
   "version": "3.10.8"
  }
 },
 "nbformat": 4,
 "nbformat_minor": 5
}
